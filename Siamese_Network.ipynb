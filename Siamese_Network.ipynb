{
  "nbformat": 4,
  "nbformat_minor": 0,
  "metadata": {
    "colab": {
      "name": "Siamese Network.ipynb",
      "provenance": []
    },
    "kernelspec": {
      "name": "python3",
      "display_name": "Python 3"
    },
    "language_info": {
      "name": "python"
    },
    "accelerator": "GPU"
  },
  "cells": [
    {
      "cell_type": "code",
      "execution_count": null,
      "metadata": {
        "id": "iQP6d1-UlJbD"
      },
      "outputs": [],
      "source": [
        "%%bash\n",
        "\n",
        "gdown 'https://drive.google.com/uc?id=13maFB1wPrej6kn9n5jUp3hm9xL-AhJsN'\n",
        "rm -rf sample_data\n",
        "unzip lfwa.zip\n",
        "rm -rf lfwa.zip\n",
        "# gdown 'https://drive.google.com/uc?id=1gajejNguoHcussvG-xx9-eep5XT8ir_G'\n",
        "# tar -xvf vgg_face_dataset.tar.gz\n",
        "# mkdir vgg_face_dataset_images\n",
        "# rm -rf vgg_face_dataset.tar.gz"
      ]
    },
    {
      "cell_type": "code",
      "source": [
        "import os\n",
        "import shutil\n",
        "from tqdm import tqdm\n",
        "import pandas as pd\n",
        "import numpy as np\n",
        "from PIL import Image\n",
        "import matplotlib.pyplot as plt\n",
        "import torchvision\n",
        "import torchvision.datasets as datasets\n",
        "import torchvision.transforms as transforms\n",
        "from torch.utils.data import DataLoader, Dataset\n",
        "import torchvision.utils\n",
        "import torch\n",
        "from torch.autograd import Variable\n",
        "import torch.nn as nn\n",
        "from torch import optim\n",
        "import torch.nn.functional as F"
      ],
      "metadata": {
        "id": "49uT23jzndJn"
      },
      "execution_count": 2,
      "outputs": []
    },
    {
      "cell_type": "code",
      "source": [
        "ROOT_DIR = os.path.abspath('lfw2/lfw2')\n",
        "TRAIN_DIR = os.path.abspath('lfw2/train')\n",
        "TEST_DIR = os.path.abspath('lfw2/test')\n",
        "\n",
        "os.makedirs(TEST_DIR, exist_ok=True)\n",
        "os.makedirs(TRAIN_DIR, exist_ok=True)"
      ],
      "metadata": {
        "id": "CLn58-xbxXbR"
      },
      "execution_count": 3,
      "outputs": []
    },
    {
      "cell_type": "code",
      "source": [
        "dataset = [\n",
        "           person for person in os.listdir(ROOT_DIR) \n",
        "           if len(os.listdir(os.path.join(ROOT_DIR, person))) >= 8\n",
        "]"
      ],
      "metadata": {
        "id": "tYapfLY7yQEW"
      },
      "execution_count": 4,
      "outputs": []
    },
    {
      "cell_type": "code",
      "source": [
        "for person in tqdm(dataset, total=len(dataset)):\n",
        "    shutil.copytree(\n",
        "        os.path.join(ROOT_DIR, person), \n",
        "        os.path.join(TRAIN_DIR, person))"
      ],
      "metadata": {
        "id": "l8w2vHxoBxWk",
        "colab": {
          "base_uri": "https://localhost:8080/"
        },
        "outputId": "4eb3d916-99ac-43cb-dbe2-307588853d60"
      },
      "execution_count": 5,
      "outputs": [
        {
          "output_type": "stream",
          "name": "stderr",
          "text": [
            "100%|██████████| 217/217 [00:00<00:00, 284.80it/s]\n"
          ]
        }
      ]
    },
    {
      "cell_type": "code",
      "source": [
        "for person in tqdm(dataset, total=len(dataset)):\n",
        "    for img in np.random.choice(os.listdir(os.path.join(ROOT_DIR, person)), 3):\n",
        "        os.makedirs(os.path.join(TEST_DIR, person), exist_ok=True)\n",
        "        shutil.copy(os.path.join(ROOT_DIR, person, img), os.path.join(TEST_DIR, person))"
      ],
      "metadata": {
        "id": "GRYi7IC49PPS",
        "colab": {
          "base_uri": "https://localhost:8080/"
        },
        "outputId": "f253c5f4-7b89-4c13-c62d-69b2f5f88192"
      },
      "execution_count": 6,
      "outputs": [
        {
          "output_type": "stream",
          "name": "stderr",
          "text": [
            "100%|██████████| 217/217 [00:00<00:00, 1330.04it/s]\n"
          ]
        }
      ]
    },
    {
      "cell_type": "code",
      "source": [
        "class FaceDataset(Dataset):\n",
        "    def __init__(self, folder_dataset, transform = None):\n",
        "        self.folder_dataset = folder_dataset\n",
        "        self.transform = transform\n",
        "    \n",
        "    def __len__(self):\n",
        "        return len(self.folder_dataset)\n",
        "    \n",
        "    def __getitem__(self, idx):\n",
        "        anchor_img_path = self.folder_dataset.imgs[np.random.randint(0, len(self.folder_dataset))][0]\n",
        "        img_dir, img_name = anchor_img_path.split('/')[:-1], anchor_img_path.split('/')[-1]\n",
        "\n",
        "        while True:\n",
        "            positive_img_path = os.path.join(\"/\".join(img_dir), np.random.choice(os.listdir(\"/\".join(img_dir))))\n",
        "            if positive_img_path != anchor_img_path: break\n",
        "\n",
        "        while True:\n",
        "            negative_img_path = self.folder_dataset.imgs[np.random.randint(0, len(self.folder_dataset))][0]\n",
        "            if negative_img_path not in [anchor_img_path, positive_img_path]: break\n",
        "        \n",
        "        anchor_img = Image.open(anchor_img_path)\n",
        "        positive_img = Image.open(positive_img_path)\n",
        "        negative_img = Image.open(negative_img_path)\n",
        "\n",
        "        if self.transform:\n",
        "            anchor_img = self.transform(anchor_img)\n",
        "            positive_img = self.transform(positive_img)\n",
        "            negative_img = self.transform(negative_img)\n",
        "        \n",
        "        return anchor_img, positive_img, negative_img"
      ],
      "metadata": {
        "id": "eZBCvrTT46g0"
      },
      "execution_count": null,
      "outputs": []
    },
    {
      "cell_type": "code",
      "source": [
        "dataset = FaceDataset(datasets.ImageFolder(TRAIN_DIR))\n",
        "anchor, positive, negative = dataset[0]\n",
        "\n",
        "plt.subplot(1,3,1)\n",
        "plt.imshow(anchor, cmap='gray')\n",
        "plt.title('Anchor')\n",
        "\n",
        "plt.subplot(1,3,2)\n",
        "plt.imshow(positive, cmap='gray')\n",
        "plt.title('Positive')\n",
        "\n",
        "plt.subplot(1,3,3)\n",
        "plt.imshow(negative, cmap='gray')\n",
        "plt.title('Negative')"
      ],
      "metadata": {
        "colab": {
          "base_uri": "https://localhost:8080/",
          "height": 179
        },
        "id": "VvA3HVzP7CM8",
        "outputId": "3e8e9d86-b024-4ee3-fceb-9a2e9c296d33"
      },
      "execution_count": null,
      "outputs": [
        {
          "output_type": "execute_result",
          "data": {
            "text/plain": [
              "Text(0.5, 1.0, 'Negative')"
            ]
          },
          "metadata": {},
          "execution_count": 25
        },
        {
          "output_type": "display_data",
          "data": {
            "image/png": "[encoded data removed]",
            "text/plain": [
              "<Figure size 432x288 with 3 Axes>"
            ]
          },
          "metadata": {
            "needs_background": "light"
          }
        }
      ]
    },
    {
      "cell_type": "code",
      "source": [
        "class SiameseNetwork(nn.Module):\n",
        "    def __init__(self):\n",
        "        super(SiameseNetwork, self).__init__()\n",
        "        # Setting up the Sequential of CNN Layers\n",
        "        self.cnn1 = nn.Sequential( \n",
        "        nn.Conv2d(1, 96, kernel_size=11,stride=1),\n",
        "        nn.ReLU(inplace=True),\n",
        "        nn.LocalResponseNorm(5,alpha=0.0001,beta=0.75,k=2),\n",
        "        nn.MaxPool2d(3, stride=2),\n",
        "\n",
        "        nn.Conv2d(96, 256, kernel_size=5,stride=1,padding=2),\n",
        "        nn.ReLU(inplace=True),\n",
        "        nn.LocalResponseNorm(5,alpha=0.0001,beta=0.75,k=2),\n",
        "        nn.MaxPool2d(3, stride=2),\n",
        "        nn.Dropout2d(p=0.3),\n",
        "\n",
        "        nn.Conv2d(256,384 , kernel_size=3,stride=1,padding=1),\n",
        "        nn.ReLU(inplace=True),\n",
        "        nn.Conv2d(384,256 , kernel_size=3,stride=1,padding=1),\n",
        "        nn.ReLU(inplace=True),\n",
        "        nn.MaxPool2d(3, stride=2),\n",
        "        nn.Dropout2d(p=0.3),\n",
        "        )\n",
        "\n",
        "        # Defining the fully connected layers\n",
        "        self.fc1 = nn.Sequential(\n",
        "        # First Dense Layer\n",
        "        nn.Linear(30976, 1024),\n",
        "        nn.ReLU(inplace=True),\n",
        "        nn.Dropout2d(p=0.5),\n",
        "        # Second Dense Layer\n",
        "        nn.Linear(1024, 128),\n",
        "        nn.ReLU(inplace=True),\n",
        "        # Final Dense Layer\n",
        "        nn.Linear(128,2))\n",
        "\n",
        "    def forward(self, x):\n",
        "        # Forward pass \n",
        "        output = self.cnn1(x)\n",
        "        output = output.view(output.size()[0], -1)\n",
        "        output = self.fc1(output)\n",
        "        return output\n",
        "\n",
        "    def forward_triple(self, anchor, positive, negative): #Use for computing triplet loss\n",
        "        anchor_output = self.forward(anchor)\n",
        "        positive_output = self.forward(positive)\n",
        "        negative_output = self.forward(negative)\n",
        "        \n",
        "        return anchor_output, positive_output, negative_output"
      ],
      "metadata": {
        "id": "EvkdAHMySSDI"
      },
      "execution_count": null,
      "outputs": []
    },
    {
      "cell_type": "code",
      "source": [
        "class Maxout(nn.Module):\n",
        "\n",
        "    def __init__(self, in_size, out_size, pool_size):\n",
        "        super().__init__()\n",
        "        self.in_size, self.out_size, self.pool_size = in_size, out_size, pool_size\n",
        "        self.lin = nn.Linear(in_size, out_size * pool_size)\n",
        "\n",
        "\n",
        "    def forward(self, inputs):\n",
        "        shape = list(inputs.size())\n",
        "        shape[-1] = self.out_size\n",
        "        shape.append(self.pool_size)\n",
        "        max_dim = len(shape) - 1\n",
        "        out = self.lin(inputs)\n",
        "        m, i = out.view(*shape).max(max_dim)\n",
        "        return m\n",
        "\n",
        "class SiameseNetwork(nn.Module):\n",
        "    def __init__(self):\n",
        "        super(SiameseNetwork, self).__init__()\n",
        "        #Explanation of Conv2d(x,y,z):\n",
        "        #      Build a convolutional layer with\n",
        "        #            x input channels\n",
        "        #            y output channels\n",
        "        #            z*z filter\n",
        "        self.model1 = nn.Sequential(\n",
        "        nn.Conv2d(3,64,7,stride=2,padding=3),\n",
        "        nn.MaxPool2d(3,stride=2,padding=1)\n",
        "        )\n",
        "\n",
        "        self.model2 = nn.Sequential(\n",
        "        nn.Conv2d(64,64,1,stride=1),\n",
        "        nn.Conv2d(64,192,3,stride=1,padding=1)\n",
        "        )\n",
        "\n",
        "        self.model3 = nn.Sequential(\n",
        "        nn.MaxPool2d(3,stride=2,padding=1),\n",
        "        nn.Conv2d(192,192,1,stride=1),\n",
        "        nn.Conv2d(192,384,3,stride=1,padding=1),\n",
        "        nn.MaxPool2d(3,stride=2,padding=1),\n",
        "        nn.Conv2d(384,384,1,stride=1),\n",
        "        nn.Conv2d(384,256,3,stride=1,padding=1),\n",
        "        nn.Conv2d(256,256,1,stride=1),\n",
        "        nn.Conv2d(256,256,3,stride=1,padding=1),\n",
        "        nn.Conv2d(256,256,1,stride=1),\n",
        "        nn.Conv2d(256,256,3,stride=1,padding=1),\n",
        "        nn.MaxPool2d(3,stride=2,padding=1)\n",
        "        )\n",
        "\n",
        "        self.model4 = nn.Sequential(\n",
        "        Maxout(7*7*256, 1*32*128, 2),\n",
        "        Maxout(1*32*128, 1*32*128, 2),\n",
        "        nn.Linear(1*32*128, 1*1*128),\n",
        "        nn.Linear(128,128)\n",
        "        )\n",
        "\n",
        "\n",
        "    #Fucntion to feed forward\n",
        "\n",
        "    def forward(self, x): #Go through network once\n",
        "        # Max pooling over a (2, 2) window\n",
        "        #x = x.type('torch.cuda.FloatTensor')\n",
        "        x = F.normalize(x)\n",
        "        x = self.model1(x)\n",
        "        x = F.normalize(x)\n",
        "        x = self.model2(x)\n",
        "        x = F.normalize(x)\n",
        "        x = self.model3(x)\n",
        "        x = x.view(-1, self.num_flat_features(x))\n",
        "        x = self.model4(x)\n",
        "\n",
        "        return x\n",
        "\n",
        "    def forward_triple(self, anchor, positive, negative): #Use for computing triplet loss\n",
        "        anchor_output = self.forward(anchor)\n",
        "        positive_output = self.forward(positive)\n",
        "        negative_output = self.forward(negative)\n",
        "        return anchor_output, positive_output, negative_output\n",
        "\n",
        "    def num_flat_features(self, x):\n",
        "        size = x.size()[1:]  # all dimensions except the batch dimension\n",
        "        num_features = 1\n",
        "        for s in size:\n",
        "            num_features *= s\n",
        "        return num_features"
      ],
      "metadata": {
        "id": "B_YHU3sMiMdk"
      },
      "execution_count": null,
      "outputs": []
    },
    {
      "cell_type": "code",
      "source": [
        "model = SiameseNetwork()\n",
        "anchor_output, positive_output, negative_output = model.forward_triple(torch.tensor(np.random.randn(1, 1, 224, 224)).float(),\n",
        "                     torch.tensor(np.random.randn(1, 1, 224, 224)).float(),\n",
        "                     torch.tensor(np.random.randn(1, 1, 224, 224)).float())"
      ],
      "metadata": {
        "id": "bAazNRaQhNNa"
      },
      "execution_count": null,
      "outputs": []
    },
    {
      "cell_type": "code",
      "source": [
        "anchor_output.shape, positive_output.shape, negative_output.shape"
      ],
      "metadata": {
        "id": "6b5koTFPh6tl"
      },
      "execution_count": null,
      "outputs": []
    },
    {
      "cell_type": "code",
      "source": [
        "class TripletLoss(nn.Module):\n",
        "    def __init__(self, margin = 0.2):\n",
        "        super(TripletLoss,self).__init__()\n",
        "        self.margin= margin\n",
        "\n",
        "    def forward(self, anchor, positive, negative):\n",
        "        APDistance = (anchor - positive).pow(2).sum(1)\n",
        "        ANDistance = (anchor - negative).pow(2).sum(1)\n",
        "        loss = F.relu(APDistance - ANDistance + self.margin)\n",
        "        return loss.sum()"
      ],
      "metadata": {
        "id": "SMgnQrV6kIpi"
      },
      "execution_count": null,
      "outputs": []
    },
    {
      "cell_type": "code",
      "source": [
        "device = torch.device(\"cuda:0\" if torch.cuda.is_available() else \"cpu\")\n",
        "print(device)\n",
        "composed = transforms.Compose([\n",
        "                               transforms.Resize((224, 224)),\n",
        "                               transforms.ToTensor()\n",
        "])\n",
        "trainDataset = FaceDataset(datasets.ImageFolder(TRAIN_DIR), composed)\n",
        "trainDataloader = DataLoader(trainDataset, batch_size=64, shuffle=True, num_workers=2)\n",
        "net = SiameseNetwork().to(device)\n",
        "criterion = TripletLoss()\n",
        "optimizer = optim.SGD(net.parameters(), lr=0.05)\n",
        "for epoch in range(24):\n",
        "    for i, data in enumerate(trainDataloader,0):\n",
        "        anchor, positive, negative = data\n",
        "        anchor.to(device)\n",
        "        positive.to(device)\n",
        "        negative.to(device)\n",
        "        anchor_out, positive_out, negative_out = net.forward_triple(anchor, positive, negative)\n",
        "        optimizer.zero_grad()\n",
        "        loss = criterion(anchor_out, positive_out, negative_out)\n",
        "        loss.backward()\n",
        "        optimizer.step()\n",
        "        if i % 10 == 0:\n",
        "            print('Current loss: %.3f' %(float(loss.data.cpu().numpy())))"
      ],
      "metadata": {
        "id": "WnP5XV5VkVYb"
      },
      "execution_count": null,
      "outputs": []
    },
    {
      "cell_type": "code",
      "source": [
        ""
      ],
      "metadata": {
        "id": "hQ7UTRQeR_2m"
      },
      "execution_count": null,
      "outputs": []
    }
  ]
}