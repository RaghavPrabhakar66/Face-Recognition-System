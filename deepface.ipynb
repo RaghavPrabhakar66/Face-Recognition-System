{
  "nbformat": 4,
  "nbformat_minor": 0,
  "metadata": {
    "colab": {
      "name": "deepface.ipynb",
      "provenance": [],
      "collapsed_sections": []
    },
    "kernelspec": {
      "name": "python3",
      "display_name": "Python 3"
    },
    "language_info": {
      "name": "python"
    },
    "accelerator": "GPU"
  },
  "cells": [
    {
      "cell_type": "markdown",
      "source": [
        "# Deepface"
      ],
      "metadata": {
        "id": "GRR27oqORpPP"
      }
    },
    {
      "cell_type": "code",
      "execution_count": 3,
      "metadata": {
        "id": "YiHoBXjIDf5k",
        "colab": {
          "base_uri": "https://localhost:8080/"
        },
        "outputId": "0607cb91-1573-4765-8ed2-7d2bd539d16e"
      },
      "outputs": [
        {
          "output_type": "stream",
          "name": "stdout",
          "text": [
            "  Installing build dependencies ... \u001b[?25l\u001b[?25hdone\n",
            "  Getting requirements to build wheel ... \u001b[?25l\u001b[?25hdone\n",
            "    Preparing wheel metadata ... \u001b[?25l\u001b[?25hdone\n",
            "\u001b[K     |████████████████████████████████| 2.0 MB 9.9 MB/s \n",
            "\u001b[K     |████████████████████████████████| 210 kB 42.9 MB/s \n",
            "\u001b[K     |████████████████████████████████| 3.6 MB 33.7 MB/s \n",
            "\u001b[K     |████████████████████████████████| 61 kB 372 kB/s \n",
            "\u001b[K     |████████████████████████████████| 961 kB 39.8 MB/s \n",
            "\u001b[?25h  Building wheel for gdown (PEP 517) ... \u001b[?25l\u001b[?25hdone\n",
            "  Building wheel for ffmpy (setup.py) ... \u001b[?25l\u001b[?25hdone\n",
            "  Building wheel for flask-cachebuster (setup.py) ... \u001b[?25l\u001b[?25hdone\n"
          ]
        }
      ],
      "source": [
        "!pip install -q deepface gradio mtcnn"
      ]
    },
    {
      "cell_type": "code",
      "source": [
        "from deepface import DeepFace\n",
        "from deepface.basemodels import VGGFace, OpenFace, Facenet, FbDeepFace"
      ],
      "metadata": {
        "id": "D44Wp3oUFAGg",
        "colab": {
          "base_uri": "https://localhost:8080/"
        },
        "outputId": "516b8644-f0dd-4bd7-97f9-40fceda63c7a"
      },
      "execution_count": 4,
      "outputs": [
        {
          "output_type": "stream",
          "name": "stdout",
          "text": [
            "Directory  /root /.deepface created\n",
            "Directory  /root /.deepface/weights created\n"
          ]
        }
      ]
    },
    {
      "cell_type": "markdown",
      "source": [
        "# Gradio"
      ],
      "metadata": {
        "id": "yWlCDYReRtMH"
      }
    },
    {
      "cell_type": "code",
      "source": [
        "!rm -rf sample_data\n",
        "!gdown https://drive.google.com/uc?id=1-7eJ-QdmPrpWlYRiIabgzWMBoHDlj7lj\n",
        "!unzip database2.zip\n",
        "!rm database2.zip"
      ],
      "metadata": {
        "id": "v9OpZ5poNHfQ"
      },
      "execution_count": null,
      "outputs": []
    },
    {
      "cell_type": "code",
      "source": [
        "from mtcnn import MTCNN\n",
        "import cv2\n",
        "from numpy import copy\n",
        "\n",
        "def detect(img):\n",
        "    detector = MTCNN()\n",
        "    output = detector.detect_faces(img)\n",
        "    output = output[0]\n",
        "    img = cv2.rectangle(img,\n",
        "                        (output['box'][0], output['box'][1]),\n",
        "                        (output['box'][0]+output['box'][2], output['box'][1]+output['box'][3]), (255, 0, 0), 2)\n",
        "    rect = copy(img)\n",
        "    cv2.putText(img, str(round(output['confidence'], 3)), (output['box'][0], output['box'][1]-10), cv2.FONT_HERSHEY_SIMPLEX, 0.4, (36,255,12), 1)\n",
        "    for point in list(output['keypoints'].values()):\n",
        "        img = cv2.circle(img, point, 1, (0, 0, 0), 2)\n",
        "    return rect, img"
      ],
      "metadata": {
        "id": "iAgKZWCkaiDA"
      },
      "execution_count": 6,
      "outputs": []
    },
    {
      "cell_type": "code",
      "source": [
        "import gradio as gr\n",
        "import matplotlib.pyplot as plt"
      ],
      "metadata": {
        "id": "xGto5X-jUwPF"
      },
      "execution_count": 7,
      "outputs": []
    },
    {
      "cell_type": "code",
      "source": [
        "inputs = [\n",
        "          gr.inputs.Image(),\n",
        "]\n",
        "outputs = [\n",
        "           'dataframe',\n",
        "           'image',\n",
        "           'image',\n",
        "]\n",
        "def f(image):\n",
        "    df = DeepFace.find(image, db_path='database', model_name='VGG-Face')\n",
        "    rect, landmarks = detect(image)\n",
        "    return df, rect, landmarks\n",
        "\n",
        "gr.Interface(f, inputs, outputs).launch(debug=True)\n"
      ],
      "metadata": {
        "colab": {
          "base_uri": "https://localhost:8080/",
          "height": 889
        },
        "id": "7JkT_hxPHpx8",
        "outputId": "ea864b19-2bd6-46cd-aaad-c1288f24a22f"
      },
      "execution_count": null,
      "outputs": [
        {
          "output_type": "stream",
          "name": "stdout",
          "text": [
            "Colab notebook detected. This cell will run indefinitely so that you can see errors and logs. To turn off, set debug=False in launch().\n",
            "Running on public URL: https://48195.gradio.app\n",
            "\n",
            "This share link expires in 72 hours. For free permanent hosting, check out Spaces (https://huggingface.co/spaces)\n"
          ]
        },
        {
          "output_type": "display_data",
          "data": {
            "text/html": [
              "\n",
              "        <iframe\n",
              "            width=\"900\"\n",
              "            height=\"500\"\n",
              "            src=\"https://48195.gradio.app\"\n",
              "            frameborder=\"0\"\n",
              "            allowfullscreen\n",
              "        ></iframe>\n",
              "        "
            ],
            "text/plain": [
              "<IPython.lib.display.IFrame at 0x7f3c51bcd090>"
            ]
          },
          "metadata": {}
        },
        {
          "output_type": "stream",
          "name": "stdout",
          "text": [
            "vgg_face_weights.h5 will be downloaded...\n"
          ]
        },
        {
          "output_type": "stream",
          "name": "stderr",
          "text": [
            "Downloading...\n",
            "From: https://github.com/serengil/deepface_models/releases/download/v1.0/vgg_face_weights.h5\n",
            "To: /root/.deepface/weights/vgg_face_weights.h5\n",
            "100%|██████████| 580M/580M [00:06<00:00, 96.1MB/s]\n"
          ]
        },
        {
          "output_type": "stream",
          "name": "stdout",
          "text": [
            "Representations stored in  database / representations_vgg_face.pkl  file. Please delete this file when you add new identities in your database.\n",
            "find function lasts  24.81213402748108  seconds\n",
            "WARNING: Representations for images in  database  folder were previously stored in  representations_vgg_face.pkl . If you added new instances after this file creation, then please delete this file and call find function again. It will create it again.\n",
            "There are  24  representations found in  representations_vgg_face.pkl\n",
            "find function lasts  0.44358396530151367  seconds\n",
            "WARNING: Representations for images in  database  folder were previously stored in  representations_vgg_face.pkl . If you added new instances after this file creation, then please delete this file and call find function again. It will create it again.\n",
            "There are  24  representations found in  representations_vgg_face.pkl\n",
            "find function lasts  0.3410189151763916  seconds\n",
            "WARNING: Representations for images in  database  folder were previously stored in  representations_vgg_face.pkl . If you added new instances after this file creation, then please delete this file and call find function again. It will create it again.\n",
            "There are  24  representations found in  representations_vgg_face.pkl\n",
            "find function lasts  0.3315095901489258  seconds\n"
          ]
        }
      ]
    },
    {
      "cell_type": "code",
      "source": [
        ""
      ],
      "metadata": {
        "id": "5K43w5q_Vbvq"
      },
      "execution_count": null,
      "outputs": []
    }
  ]
}